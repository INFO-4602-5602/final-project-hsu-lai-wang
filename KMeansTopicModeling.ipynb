{
 "nbformat": 4,
 "nbformat_minor": 2,
 "metadata": {
  "language_info": {
   "name": "python",
   "codemirror_mode": {
    "name": "ipython",
    "version": 3
   },
   "version": "3.7.4"
  },
  "orig_nbformat": 2,
  "file_extension": ".py",
  "mimetype": "text/x-python",
  "name": "python",
  "npconvert_exporter": "python",
  "pygments_lexer": "ipython3",
  "version": 3
 },
 "cells": [
  {
   "cell_type": "code",
   "execution_count": 1,
   "metadata": {},
   "outputs": [
    {
     "name": "stdout",
     "output_type": "stream",
     "text": "Loading training data\n"
    }
   ],
   "source": [
    "import os\n",
    "import pandas as pd\n",
    "from pprint import pprint\n",
    "\n",
    "text = []\n",
    "print('Loading training data')\n",
    "data_dir = '/data/movie_reviews/aclImdb/train/'\n",
    "for f in os.listdir(os.path.join(data_dir, 'neg')):\n",
    "    text.append(open(os.path.join(data_dir, 'neg', f)).read())\n",
    "for f in os.listdir(os.path.join(data_dir, 'pos')):\n",
    "    text.append(open(os.path.join(data_dir, 'pos', f)).read())\n",
    "data_dir = '/data/movie_reviews/aclImdb/test/'\n",
    "for f in os.listdir(os.path.join(data_dir, 'neg')):\n",
    "    text.append(open(os.path.join(data_dir, 'neg', f)).read())\n",
    "for f in os.listdir(os.path.join(data_dir, 'pos')):\n",
    "    text.append(open(os.path.join(data_dir, 'pos', f)).read())"
   ]
  },
  {
   "cell_type": "code",
   "execution_count": 34,
   "metadata": {},
   "outputs": [],
   "source": [
    "from sklearn.feature_extraction.text import TfidfVectorizer, CountVectorizer\n",
    "from sklearn.cluster import KMeans\n",
    "from sklearn.metrics import adjusted_rand_score\n",
    "\n",
    "from sklearn.decomposition import TruncatedSVD\n",
    "from sklearn.pipeline import make_pipeline\n",
    "from sklearn.preprocessing import Normalizer\n",
    "\n",
    "vectorizer = TfidfVectorizer(stop_words='english',  max_features=2000)\n",
    "X = vectorizer.fit_transform(text)\n",
    "\n",
    "\n",
    "svd = TruncatedSVD(20)\n",
    "normalizer = Normalizer(copy=False)\n",
    "lsa = make_pipeline(svd, normalizer)\n",
    "\n",
    "X = lsa.fit_transform(X)\n",
    "\n",
    "true_k = 20\n",
    "model = KMeans(n_clusters=true_k, init='k-means++', max_iter=100, n_init=220)\n",
    "model.fit(X)\n",
    "\n",
    "print(\"Top terms per cluster:\")\n",
    "original_space_centroids = svd.inverse_transform(model.cluster_centers_)\n",
    "order_centroids = original_space_centroids.argsort()[:, ::-1]\n",
    "print(\"Top terms per cluster:\")\n",
    "terms = vectorizer.get_feature_names()\n",
    "for i in range(true_k):\n",
    "    print(\"Cluster %d:\" % i),\n",
    "    for ind in order_centroids[i, :20]:\n",
    "        print(' %s' % terms[ind]),\n",
    "    print"
   ]
  },
  {
   "cell_type": "code",
   "execution_count": null,
   "metadata": {},
   "outputs": [],
   "source": []
  }
 ]
}